{
 "cells": [
  {
   "cell_type": "markdown",
   "id": "7ee19a16",
   "metadata": {},
   "source": [
    "# Data Wrangling Report"
   ]
  },
  {
   "cell_type": "markdown",
   "id": "beff1295",
   "metadata": {},
   "source": [
    "## Table Of Content\n",
    "\n",
    "<li><a href='#intro'>Introduction</a></li>\n",
    "<li><a href='#gathering'>Data Gathering</a></li>\n",
    "<li><a href='#assess'> Assessing Data</a></li>\n",
    "<li><a href='#cleaning'>Cleaning Data</a></li>\n",
    "<li><a href='#conclusion'>Conclusion</a></li>"
   ]
  },
  {
   "cell_type": "markdown",
   "id": "911956d9",
   "metadata": {},
   "source": [
    "<a id='intro'></a>\n",
    "### Introduction\n",
    "> The data for the this analysis is Accra Air Quality from <a href=https://africaopenData.org>openDataAfrica</a> . The data was access via openData url to download the data file.\n",
    "\n",
    "###### Data Description\n",
    "The Data set contains PM (particulate matter), temperature, and humidity readings taken with low-cost sensors. The data gathered is from November 2019 to March 2021. Each months data in these periods were downloaded as seperate files. \n",
    "Particulate matter according to <a href=https://epa.gov> EPA</a>, \"Particulate matter (PM) is a mixture of solid particles and liquid droplets found in the air1. Some particles are large or dark enough to be seen with the naked eye, such as dust, dirt, soot, or smoke. Others are so small they can only be detected using an electron microscope1. Particulate matter can come from natural sources such as dust storms or wildfires, but it can also come from human activities such as transportation, construction, and industry\" "
   ]
  },
  {
   "cell_type": "markdown",
   "id": "e168db83",
   "metadata": {},
   "source": [
    "<a id='gathering'></a>\n",
    "### Data Gathering"
   ]
  },
  {
   "cell_type": "markdown",
   "id": "59eb3cff",
   "metadata": {},
   "source": [
    "The data files was accessed using a download url from openData site. Each month's data was accessed via different urls. Pandas library was used to load the file into csv via the url and saved into a dictionary and was concantenated into a single pandas dataframe"
   ]
  },
  {
   "cell_type": "markdown",
   "id": "5e363c97",
   "metadata": {},
   "source": [
    "<a id='assess'></a>\n",
    "### Assessing Data\n",
    "\n",
    "#### Quality Issues\n",
    "> There was no any critical quality issues except for timestamp which was an object data type instead of datetime data type. To ensure smooth and comprehensive analysis, the timestamp column needs to be converted into datetime datatype\n",
    "\n",
    "##### Tidiness Issues\n",
    "> The data was accessed via different urls resulting in the data being divided into parts.\n",
    "> The data set contained columns that were irrelevant to the analysis, i.e. sensor_id, and location.\n",
    "> Moreover, the P2 readings were resampled into 1H averages to smoothing out the data and be able to gain more insight in the dataset."
   ]
  },
  {
   "cell_type": "markdown",
   "id": "1df73248",
   "metadata": {},
   "source": [
    "<a id='cleaning'></a>\n",
    "### Cleaning Data\n",
    "The datasets were concantenated into one data frame to make analysis smooth, concise and comprehensive.\n",
    "The dataset was then cleaned for any quality and tidiness issues.\n",
    "\n",
    "> The irrelvant columns were dropped and the timestamp column was set as the index of the dataframe and was converted into datetime data type for insightful analysis and prevent unforseen errors.\n",
    "> The data was resampled into 1H window size to minimize errors and speed up analysis and improve the quality of the analysis."
   ]
  },
  {
   "cell_type": "markdown",
   "id": "81f59d66",
   "metadata": {},
   "source": [
    "<a id='conclusion'></a>\n",
    "### Conclusion\n",
    "\n",
    "The wrangled data has been saved as `accra_air_quality.csv`. The dataset has been wrangled for analysis and predictive analysis"
   ]
  },
  {
   "cell_type": "code",
   "execution_count": null,
   "id": "5bed1f03",
   "metadata": {},
   "outputs": [],
   "source": []
  }
 ],
 "metadata": {
  "kernelspec": {
   "display_name": "Python 3 (ipykernel)",
   "language": "python",
   "name": "python3"
  },
  "language_info": {
   "codemirror_mode": {
    "name": "ipython",
    "version": 3
   },
   "file_extension": ".py",
   "mimetype": "text/x-python",
   "name": "python",
   "nbconvert_exporter": "python",
   "pygments_lexer": "ipython3",
   "version": "3.9.12"
  }
 },
 "nbformat": 4,
 "nbformat_minor": 5
}
